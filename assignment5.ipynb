{
 "cells": [
  {
   "cell_type": "code",
   "execution_count": null,
   "id": "10545268",
   "metadata": {},
   "outputs": [],
   "source": [
    "'''Q.1 Who developed Python Programming Language ?\n",
    "Ans- Python was created by Guido van Rossum in the late 1980s and was first released in 1991. \n",
    "                                                                                                                                                    Van Rossum named it\n",
    "        after the British comedy group Monty Python, as he was a fan of their work'''"
   ]
  },
  {
   "cell_type": "code",
   "execution_count": null,
   "id": "f76e1a87",
   "metadata": {},
   "outputs": [],
   "source": [
    "'''Q.2 Which type of programming does Python support? \n",
    "Ans- Python is a high-level, general-purpose programming language that supports multiple programming paradigms, \n",
    "        including:\n",
    "        a) Procedural programming\n",
    "        b) Object-oriented programming\n",
    "        c) Functional programming\n",
    "        d)Imperative programming\n",
    "        e) Event-driven programming\n",
    "        Python also support dynamic typing.'''"
   ]
  },
  {
   "cell_type": "code",
   "execution_count": null,
   "id": "cf8f369c",
   "metadata": {},
   "outputs": [],
   "source": [
    "'''Q.3 Is python case sensitive when dealing with identifiers? \n",
    "Ans- Yes, Python is a case-sensitive programming language when it comes to identifiers.\n",
    "                                                                                                                                      Such identifiers \"my_var\", \n",
    "        \"My_Var\", and \"MY_VAR\" would be treated as three distinct identifiers by Python.'''"
   ]
  },
  {
   "cell_type": "code",
   "execution_count": null,
   "id": "59cd40bd",
   "metadata": {},
   "outputs": [],
   "source": [
    "'''Q.4 What is the correct extension of the Python file?\n",
    "Ans- The correct extension for a Python file is \".py\".\n",
    "                                                                                This is important because the \".py\" extension tells the operating \n",
    "         system that the file contains Python code and should be executed using the Python interpreter.'''"
   ]
  },
  {
   "cell_type": "code",
   "execution_count": null,
   "id": "d5664e8a",
   "metadata": {},
   "outputs": [],
   "source": [
    "'''Q.5 Is Python code compiled or interpreted?\n",
    "Ans- Python code is interpreted, which means that the Python interpreter reads and executes the code directly, \n",
    "        without first converting it to machine code.'''"
   ]
  },
  {
   "cell_type": "code",
   "execution_count": null,
   "id": "4ed83bc6",
   "metadata": {},
   "outputs": [],
   "source": [
    "'''Q.6 Name a few blocks of code used to define in Python language?\n",
    "Ans- In Python, you can define several different types of code blocks. \n",
    "        Here are some of them mainly -\n",
    "        a) Functions :- Functions are blocks of code that perform a specific task.\n",
    "        b) Classes    :- Classes are blocks of code that define a blueprint for creating objects.\n",
    "        c) Conditional Statement :- It execute different branches of code based on a condition.\n",
    "        d) Loops :-  Loops are blocks of code that execute repeatedly until a condition is met.\n",
    "        etc. '''"
   ]
  },
  {
   "cell_type": "code",
   "execution_count": null,
   "id": "ffc3f1d3",
   "metadata": {},
   "outputs": [],
   "source": [
    "'''Q.7 State a character used to give single-line comments in Python? \n",
    "Ans- To use a single line comment we use prefixing the line with the hash character \"#\". Anything that follows the\n",
    "        hash symbol on the same line will be ignored by the Python interpreter.'''"
   ]
  },
  {
   "cell_type": "code",
   "execution_count": null,
   "id": "92da4812",
   "metadata": {},
   "outputs": [],
   "source": [
    "'''Q.8 Mention functions which can help us to find the version of python that we are currently working on?\n",
    "Ans- In Python, you can use various built-in functions and modules to find the version of Python manily are :-\n",
    "         a) sys.version\n",
    "         b) platform.python_version()\n",
    "         c) sysconfig.get_config_var('VERSION') '''"
   ]
  },
  {
   "cell_type": "code",
   "execution_count": null,
   "id": "6ad09970",
   "metadata": {},
   "outputs": [],
   "source": [
    "'''Q.9 Python supports the creation of anonymous functions at runtime, using a construct called - - - - - - - - ? \n",
    "Ans- In Python, you can create anonymous functions at runtime using a construct called \"lambda\" functions.\n",
    "                                                                                                                                                                       Because \n",
    "        Lambda functions are also known as \"anonymous functions\" because they don't have name. '''"
   ]
  },
  {
   "cell_type": "code",
   "execution_count": null,
   "id": "144f3d23",
   "metadata": {},
   "outputs": [],
   "source": [
    "'''Q.10 What does pip stand for python?\n",
    "Ans- In Python, \"pip\" stands for \"Pip Installs Packages\".'''"
   ]
  },
  {
   "cell_type": "code",
   "execution_count": null,
   "id": "867b021c",
   "metadata": {},
   "outputs": [],
   "source": [
    "'''Q.11 Mention a few built-in functions in python?\n",
    "Ans- Few built-in functions in python mainly-\n",
    "         a) print()\n",
    "         b) range()\n",
    "         c) len()\n",
    "         d) sort()\n",
    "         e) input()\n",
    "         f) str()\n",
    "         g) dict()\n",
    "         h) map()\n",
    "         i) filter()\n",
    "         j) lambda()\n",
    "         k) zip()\n",
    "         l) enumerate()\n",
    "         etc.'''"
   ]
  },
  {
   "cell_type": "code",
   "execution_count": null,
   "id": "13c1fe48",
   "metadata": {},
   "outputs": [],
   "source": [
    "'''Q.12 What is the maximum possible length of an identifier in Python?\n",
    "Ans- An identifier can have a maximum length of 79 characters in Python.\n",
    "                                                                                                            While there is no maximum length of an identifier\n",
    "        explicitly defined in Python.\n",
    "                                                    Practical limits are imposed by the system's available memory.'''"
   ]
  },
  {
   "cell_type": "code",
   "execution_count": null,
   "id": "f8c579bf",
   "metadata": {},
   "outputs": [],
   "source": [
    "'''Q.13 What are the benefits of using Python?\n",
    "Ans- There are many benefits to using Python as a programming language, including:\n",
    "         a) Easy to learn\n",
    "         b) Large Standard library\n",
    "         c) Large community and support\n",
    "         d) Data Science and Machine learning\n",
    "         e) Open Source and free\n",
    "         etc. '''"
   ]
  },
  {
   "cell_type": "code",
   "execution_count": null,
   "id": "3c4f5084",
   "metadata": {},
   "outputs": [],
   "source": [
    "'''Q.14 How is memory managed in Python?\n",
    "Ans- A garbage collection in Python manages the memory automatically and heap allocation. In simpler terms, the \n",
    "        process of automatic deletion of unwanted or unused objects to free the memory is called garbage collection \n",
    "        in Python. '''"
   ]
  },
  {
   "cell_type": "code",
   "execution_count": null,
   "id": "aadcc7ba",
   "metadata": {},
   "outputs": [],
   "source": [
    "'''Q.15 How to install Python on windows and set path variables?\n",
    "Ans- 1) Download Python from (https://www.python.org/downloads/windows/).\n",
    "        2) Install in PC by giving file destination and also checking on add it (Add Python to PATH).\n",
    "        3) After Installation check in Environment variable if python path there then OK else.\n",
    "        4) Paste the Python Folder path in Environment Variable.'''"
   ]
  },
  {
   "cell_type": "code",
   "execution_count": null,
   "id": "4d83366b",
   "metadata": {},
   "outputs": [],
   "source": [
    "'''Q.16 Is indentaiton required in python?\n",
    "Ans- Yes, indentation is required in Python. Python uses indentation to indicate the block of code belonging to a \n",
    "        particular control structure, such as a loop or a conditional statement.'''"
   ]
  }
 ],
 "metadata": {
  "kernelspec": {
   "display_name": "Python 3 (ipykernel)",
   "language": "python",
   "name": "python3"
  },
  "language_info": {
   "codemirror_mode": {
    "name": "ipython",
    "version": 3
   },
   "file_extension": ".py",
   "mimetype": "text/x-python",
   "name": "python",
   "nbconvert_exporter": "python",
   "pygments_lexer": "ipython3",
   "version": "3.9.7"
  }
 },
 "nbformat": 4,
 "nbformat_minor": 5
}
