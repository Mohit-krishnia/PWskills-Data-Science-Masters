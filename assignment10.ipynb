{
 "cells": [
  {
   "cell_type": "code",
   "execution_count": 2,
   "id": "69595156",
   "metadata": {},
   "outputs": [
    {
     "name": "stdout",
     "output_type": "stream",
     "text": [
      " Vehicle Toyota Fortuner with speed 200 with an average of 13\n"
     ]
    }
   ],
   "source": [
    "'''Q.1 Create a vehicle class with an init method having instance variables as name_of_vehicle, max_speed and average_of_vehicle.\n",
    "Ans- '''\n",
    "class vehicle:\n",
    "    def __init__(self,name_of_vehicle,max_speed,average_of_vehicle):\n",
    "        self.name_of_vehicle=name_of_vehicle\n",
    "        self.max_speed=max_speed\n",
    "        self.average_of_vehicle=average_of_vehicle\n",
    "        \n",
    "    def show(self):\n",
    "        print(f\" Vehicle {self.name_of_vehicle} with speed {self.max_speed} with an average of {self.average_of_vehicle}\")\n",
    "              \n",
    "obj=vehicle(\"Toyota Fortuner\",200,13)\n",
    "obj.show()"
   ]
  },
  {
   "cell_type": "code",
   "execution_count": 5,
   "id": "43fb0a13",
   "metadata": {},
   "outputs": [
    {
     "data": {
      "text/plain": [
       "' Vehichle Toyota Fortuner have a seating capacity of 5'"
      ]
     },
     "execution_count": 5,
     "metadata": {},
     "output_type": "execute_result"
    }
   ],
   "source": [
    "'''Q.2 Create a child class car from the vehicle class created in Que 1, which will inherit the vehicle class. Create a method named seating_capacity \n",
    "    which takes capacity as an argument and returns the name of the vehicle and its seating capacity.\n",
    "Ans- '''\n",
    "class car(vehicle):\n",
    "    def seating_capacity(self,a):\n",
    "        return f\" Vehichle {self.name_of_vehicle} have a seating capacity of {a}\"\n",
    "        \n",
    "obj1=car(\"Toyota Fortuner\",200,13)\n",
    "obj1.seating_capacity(5)"
   ]
  },
  {
   "cell_type": "code",
   "execution_count": 6,
   "id": "1429b1e4",
   "metadata": {},
   "outputs": [
    {
     "name": "stdout",
     "output_type": "stream",
     "text": [
      "Toyota is driving at a speed of 200 km/h\n",
      "Switching to electric mode...\n",
      "Charging the electric vehicle with a battery life of 50 kWh\n"
     ]
    }
   ],
   "source": [
    "'''Q.3 What is multiple inheritance? Write a python code to demonstrate multiple inheritance.\n",
    "Ans- Multiple inheritance is a feature of object-oriented programming that allows a subclass to inherit from multiple parent classes. In multiple \n",
    "        inheritance, a subclass can inherit attributes and methods from multiple parent classes.'''\n",
    "class Vehicle:\n",
    "    def __init__(self, name, max_speed):\n",
    "        self.name = name\n",
    "        self.max_speed = max_speed\n",
    "\n",
    "    def drive(self):\n",
    "        print(f\"{self.name} is driving at a speed of {self.max_speed} km/h\")\n",
    "\n",
    "class Electric:\n",
    "    def __init__(self, battery_life):\n",
    "        self.battery_life = battery_life\n",
    "\n",
    "    def charge(self):\n",
    "        print(f\"Charging the electric vehicle with a battery life of {self.battery_life} kWh\")\n",
    "\n",
    "class HybridVehicle(Vehicle, Electric):\n",
    "    def __init__(self, name, max_speed, battery_life):\n",
    "        Vehicle.__init__(self, name, max_speed)\n",
    "        Electric.__init__(self, battery_life)\n",
    "\n",
    "    def drive(self):\n",
    "        super().drive()\n",
    "        print(\"Switching to electric mode...\")\n",
    "        self.charge()\n",
    "\n",
    "car = HybridVehicle(\"Toyota\", 200, 50)\n",
    "car.drive()"
   ]
  },
  {
   "cell_type": "code",
   "execution_count": 7,
   "id": "9b2ea9a0",
   "metadata": {},
   "outputs": [
    {
     "name": "stdout",
     "output_type": "stream",
     "text": [
      "Alice\n",
      "30\n"
     ]
    }
   ],
   "source": [
    "'''Q.4 What are getter and setter in python? Create a class and create a getter and a setter method in this class.\n",
    "Ans- In Python, getters and setters are methods that are used to access and modify the values of class attributes (instance variables).\n",
    "        A getter is a method that retrieves the value of an attribute. It is used to get the current value of the attribute.\n",
    "        A setter is a method that sets the value of an attribute. It is used to set a new value for the attribute.'''\n",
    "class Person:\n",
    "    def __init__(self, name, age):\n",
    "        self._name = name\n",
    "        self._age = age\n",
    "\n",
    "    def get_name(self):\n",
    "        return self._name\n",
    "\n",
    "    def set_age(self, age):\n",
    "        if age < 0:\n",
    "            raise ValueError(\"Age cannot be negative\")\n",
    "        self._age = age\n",
    "person = Person(\"Alice\", 25)\n",
    "print(person.get_name())    \n",
    "person.set_age(30)\n",
    "print(person._age)"
   ]
  },
  {
   "cell_type": "code",
   "execution_count": 8,
   "id": "947030f8",
   "metadata": {},
   "outputs": [
    {
     "name": "stdout",
     "output_type": "stream",
     "text": [
      "Starting the engine\n",
      "Inserting key to start the engine\n"
     ]
    }
   ],
   "source": [
    "'''Q.5 What is method overriding in python? Write a python code to demonstrate method overriding.\n",
    "Ans- Method overriding is a feature of object-oriented programming that allows a subclass to provide its own implementation of a method that is \n",
    "        already defined in its parent class. When a method is overridden in the subclass, the new implementation of the method is used instead of the \n",
    "        one in the parent class when the method is called on objects of the subclass.'''\n",
    "class Vehicle:\n",
    "    def start_engine(self):\n",
    "        print(\"Starting the engine\")\n",
    "\n",
    "class Car(Vehicle):\n",
    "    def start_engine(self):\n",
    "        print(\"Inserting key to start the engine\")\n",
    "\n",
    "vehicle = Vehicle()\n",
    "vehicle.start_engine() \n",
    "\n",
    "car = Car()\n",
    "car.start_engine() "
   ]
  }
 ],
 "metadata": {
  "kernelspec": {
   "display_name": "Python 3 (ipykernel)",
   "language": "python",
   "name": "python3"
  },
  "language_info": {
   "codemirror_mode": {
    "name": "ipython",
    "version": 3
   },
   "file_extension": ".py",
   "mimetype": "text/x-python",
   "name": "python",
   "nbconvert_exporter": "python",
   "pygments_lexer": "ipython3",
   "version": "3.9.7"
  }
 },
 "nbformat": 4,
 "nbformat_minor": 5
}
