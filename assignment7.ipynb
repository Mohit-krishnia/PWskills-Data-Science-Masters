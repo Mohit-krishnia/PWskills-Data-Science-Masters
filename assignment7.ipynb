{
 "cells": [
  {
   "cell_type": "code",
   "execution_count": 12,
   "id": "78ecbd21",
   "metadata": {},
   "outputs": [
    {
     "name": "stdout",
     "output_type": "stream",
     "text": [
      "[1, 2, 3, 4, 44, 55, 66, True, False, 34, 56, 78, 89, 34, 1, 2, 3, 1, 34, 55, 67, 78, 89, 4, 45, 22, 61, 34, 56]\n",
      "39661127215875\n"
     ]
    }
   ],
   "source": [
    "'''Q.1 Create a function which will take a list as an argument and return the product of all the numbers after creating a flat list.\n",
    "    Use the below-given list as an argument for your function.\n",
    "    list1 = [1,2,3,4, [44,55,66, True], False, (34,56,78,89,34), {1,2,3,3,2,1}, {1:34, \"key2\": [55, 67, 78, 89], 4: (45,22, 61, 34)}, [56, 'data science'], \n",
    "    'Machine Learning']\n",
    "    Note: you must extract numeric keys and values of the dictionary also.\n",
    "Ans- '''\n",
    "lst = [1,2,3,4, [44,55,66, True], False, (34,56,78,89,34), {1,2,3,3,2,1}, {1:34, \"key2\": [55, 67, 78, 89], 4: (45,\n",
    "22, 61, 34)}, [56, 'data science'], 'Machine Learning']\n",
    "\n",
    "flat_list = []\n",
    "for item in lst:\n",
    "    if isinstance(item, (int)):\n",
    "        flat_list.append(item)\n",
    "    elif isinstance(item, list):\n",
    "        for sublist_item in item:\n",
    "            if isinstance(sublist_item, (int)):\n",
    "                flat_list.append(sublist_item)\n",
    "    elif isinstance(item, dict):\n",
    "        for k, v in item.items():\n",
    "            if isinstance(k, (int)):\n",
    "                flat_list.append(k)\n",
    "            if isinstance(v, (int)):\n",
    "                flat_list.append(v)\n",
    "            if isinstance(v, list):\n",
    "                for sublist_item in v:\n",
    "                    if isinstance(sublist_item, (int)):\n",
    "                        flat_list.append(sublist_item)\n",
    "            if isinstance(v, tuple):\n",
    "                for tuple_item in v:\n",
    "                    if isinstance(tuple_item, (int)):\n",
    "                        flat_list.append(tuple_item)\n",
    "    elif isinstance(item,set):\n",
    "        for set_item in item:\n",
    "            if isinstance(set_item,(int)):\n",
    "                flat_list.append(set_item)\n",
    "    elif isinstance(item, tuple):\n",
    "        for tuple_item in item:\n",
    "            if isinstance(tuple_item, (int)):\n",
    "                flat_list.append(tuple_item)\n",
    "\n",
    "mal=1\n",
    "for i in flat_list:\n",
    "    if i%2:\n",
    "        mal*=i\n",
    "    \n",
    "print(flat_list)\n",
    "print(mal)\n"
   ]
  },
  {
   "cell_type": "code",
   "execution_count": 22,
   "id": "730f9dd9",
   "metadata": {},
   "outputs": [
    {
     "name": "stdout",
     "output_type": "stream",
     "text": [
      "r$dzmg$gl$yvxlnv$z$wzgz$hxrvmgrhg$\n"
     ]
    }
   ],
   "source": [
    "'''Q.2 Write a python program for encrypting a message sent to you by your friend. The logic of encryption should be such that, for a the output \n",
    "    should be z. For b, the output should be y. For c, the output should be x respectively. Also, the whitespace should be replaced with a dollar sign. \n",
    "    Keep the punctuation marks unchanged.\n",
    "    Input Sentence: I want to become a Data Scientist.\n",
    "    Encrypt the above input sentence using the program you just created.\n",
    "    Note: Convert the given input sentence into lowercase before encrypting. The final output should be lowercase.\n",
    "Ans- '''\n",
    "def encryption(string):\n",
    "        string=string.lower()\n",
    "        encryption_map = {\n",
    "            'a': 'z',\n",
    "            'b': 'y',\n",
    "            'c': 'x',\n",
    "            'd': 'w',\n",
    "            'e': 'v',\n",
    "            'f': 'u',\n",
    "            'g': 't',\n",
    "            'h': 's',\n",
    "            'i': 'r',\n",
    "            'j': 'q',\n",
    "            'k': 'p',\n",
    "            'l': 'o',\n",
    "            'm': 'n',\n",
    "            'n': 'm',\n",
    "            'o': 'l',\n",
    "            'p': 'k',\n",
    "            'q': 'j',\n",
    "            'r': 'i',\n",
    "            's': 'h',\n",
    "            't': 'g',\n",
    "            'u': 'f',\n",
    "            'v': 'e',\n",
    "            'w': 'd',\n",
    "            'x': 'c',\n",
    "            'y': 'b',\n",
    "            'z': 'a',\n",
    "            '.': '$',\n",
    "            ' ':'$'\n",
    "        }\n",
    "        encrypted_output=''\n",
    "        for i in string:\n",
    "            encrypted_output+=encryption_map[i]\n",
    "        return encrypted_output\n",
    "\n",
    "string=\"I want to become a Data Scientist.\"     \n",
    "print(encryption(string))"
   ]
  },
  {
   "cell_type": "code",
   "execution_count": null,
   "id": "8e780668",
   "metadata": {},
   "outputs": [],
   "source": []
  }
 ],
 "metadata": {
  "kernelspec": {
   "display_name": "Python 3 (ipykernel)",
   "language": "python",
   "name": "python3"
  },
  "language_info": {
   "codemirror_mode": {
    "name": "ipython",
    "version": 3
   },
   "file_extension": ".py",
   "mimetype": "text/x-python",
   "name": "python",
   "nbconvert_exporter": "python",
   "pygments_lexer": "ipython3",
   "version": "3.9.7"
  }
 },
 "nbformat": 4,
 "nbformat_minor": 5
}
