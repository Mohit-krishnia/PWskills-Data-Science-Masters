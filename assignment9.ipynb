{
 "cells": [
  {
   "cell_type": "code",
   "execution_count": 1,
   "id": "204d43c2",
   "metadata": {},
   "outputs": [],
   "source": [
    "'''Q.1 What is Abstraction in OOps? Explain with an example.\n",
    "Ans- -> Abstraction is one of the fundamental concepts of object-oriented programming (OOP).\n",
    "        -> It refers to the ability to represent complex systems or ideas in a simplified manner, by hiding unnecessary details from user. \n",
    "        -> Basically it is a format we only use it by inherit.\n",
    "        -> Abstraction is achieved through the use of abstract classes and interfaces. An abstract class is a class that contains one or more abstract \n",
    "            methods, which are methods without an implementation.'''\n",
    "# Example \n",
    "class Car:\n",
    "    def start(self):\n",
    "        pass\n",
    "    \n",
    "    def accelerate(self):\n",
    "        pass\n",
    "    \n",
    "    def brake(self):\n",
    "        pass\n",
    "    \n",
    "    def turn(self, direction):\n",
    "        pass"
   ]
  },
  {
   "cell_type": "code",
   "execution_count": null,
   "id": "d1d5661f",
   "metadata": {},
   "outputs": [],
   "source": [
    "'''Q.2 Differentiate between Abstraction and Encapsulation. Explain with an example.\n",
    "Ans- In summary, abstraction is about focusing on the essential features of an object while ignoring the details, and encapsulation is about hiding \n",
    "        the internal state of an object and providing a public interface for accessing its functionality.\n",
    "                                                                                                                                                        Abstraction is hiding the details and implementation\n",
    "        of the code. Encapsulation is hiding the data and controlling the visibility of the code.\n",
    "        With Example :-\n",
    "        Let a Smart Phone.\n",
    "                            - When we use a smartphone, we interact with its user interface, such as the touchscreen, buttons, and icons. We don't need to \n",
    "                              know about the complex hardware components and software systems, which is referred to as abstraction.\n",
    "                              \n",
    "                            - Where data (the user's personal information and settings) and methods (the phone's functionality) are wrapped together into a \n",
    "                              single unit, which is referred to as encapsulation.'''"
   ]
  },
  {
   "cell_type": "code",
   "execution_count": 1,
   "id": "a08d4726",
   "metadata": {},
   "outputs": [
    {
     "name": "stdout",
     "output_type": "stream",
     "text": [
      "30\n"
     ]
    }
   ],
   "source": [
    "'''Q.3 What is abc module in python? Why is it used?\n",
    "Ans- The abc module in Python stands for \"Abstract Base Classes\".\n",
    "                                                                                                        It provides a framework for creating abstract base classes and interfaces.\n",
    "         The abc module provides a way to define and work with abstract classes and methods. It defines the ABC class and abstractmethod decorator,\n",
    "         which can be used to create abstract classes and methods, respectively.\n",
    "                                                                                                                         The abc module is used to create a hierarchy of classes that share a \n",
    "         common API or behavior, while allowing for flexibility and extensibility.'''\n",
    "# Example\n",
    "from abc import ABC, abstractmethod\n",
    "\n",
    "class Shape(ABC):\n",
    "    @abstractmethod\n",
    "    def area(self):\n",
    "        pass\n",
    "\n",
    "class Rectangle(Shape):\n",
    "    def __init__(self, length, width):\n",
    "        self.length = length\n",
    "        self.width = width\n",
    "\n",
    "    def area(self):\n",
    "        return self.length * self.width\n",
    "\n",
    "r = Rectangle(5, 6)\n",
    "print(r.area())"
   ]
  },
  {
   "cell_type": "code",
   "execution_count": 3,
   "id": "480102c7",
   "metadata": {},
   "outputs": [
    {
     "name": "stdout",
     "output_type": "stream",
     "text": [
      "1300\n"
     ]
    }
   ],
   "source": [
    "'''Q.4 How can we achieve data abstraction?\n",
    "Ans- In Python, we can achieve data abstraction using classes and objects. Data abstraction is the process of hiding certain details and showing only \n",
    "        the essential information to the user. \n",
    "        By several processes we achieve the data abstraction\n",
    "        a) Define a class with private attributes(`__`)\n",
    "        b) Define public methods\n",
    "        c) Hide implementation details. '''\n",
    "#Example\n",
    "class BankAccount:\n",
    "    def __init__(self, name, balance):\n",
    "        self.__name = name\n",
    "        self.__balance = balance     # Private attributes\n",
    "\n",
    "    def deposit(self, amount):      \n",
    "        self.__balance += amount\n",
    "\n",
    "    def withdraw(self, amount):   # Public methods\n",
    "        if self.__balance >= amount:\n",
    "            self.__balance -= amount\n",
    "        else:\n",
    "            print(\"Insufficient balance\")\n",
    "\n",
    "    def get_balance(self):\n",
    "        return self.__balance\n",
    "account = BankAccount(\"John\", 1000)\n",
    "account.deposit(500)\n",
    "account.withdraw(200)\n",
    "print(account.get_balance()) "
   ]
  },
  {
   "cell_type": "code",
   "execution_count": null,
   "id": "bd770424",
   "metadata": {},
   "outputs": [],
   "source": [
    "'''Q.5 Can we create an instance of an abstract class? Explain your answer.\n",
    "Ans- No, we cannot create an instance of an abstract class in Python. An abstract class is a class that contains one or more abstract methods, which \n",
    "        are methods that have no implementation in the abstract class.\n",
    "                                                                                                          The purpose of an abstract class is to provide a blueprint or template for other \n",
    "        classes to inherit.\n",
    "                                   We will get a TypeError when we try to make an instance of an abstract class.'''"
   ]
  }
 ],
 "metadata": {
  "kernelspec": {
   "display_name": "Python 3 (ipykernel)",
   "language": "python",
   "name": "python3"
  },
  "language_info": {
   "codemirror_mode": {
    "name": "ipython",
    "version": 3
   },
   "file_extension": ".py",
   "mimetype": "text/x-python",
   "name": "python",
   "nbconvert_exporter": "python",
   "pygments_lexer": "ipython3",
   "version": "3.9.7"
  }
 },
 "nbformat": 4,
 "nbformat_minor": 5
}
