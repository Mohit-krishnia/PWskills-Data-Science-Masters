{
 "cells": [
  {
   "cell_type": "code",
   "execution_count": 1,
   "id": "0e460925",
   "metadata": {},
   "outputs": [
    {
     "name": "stdout",
     "output_type": "stream",
     "text": [
      "Enter the Percentage that you got to display your grades : 85\n",
      "B\n"
     ]
    }
   ],
   "source": [
    "'''Q.1 Write a program to accept percentage from the user and display the grade according\n",
    "    to the following criteria: A,B,C,D.\n",
    "Ans- '''\n",
    "a=int(input(\"Enter the Percentage that you got to display your grades : \"))\n",
    "if a>90 and a<=100:\n",
    "    print(\"A\")\n",
    "elif a>80 and a<=90:\n",
    "    print(\"B\")\n",
    "elif a>=60 and a<=80:\n",
    "    print(\"C\")\n",
    "elif a<60 and a>0:\n",
    "    print(\"D\")"
   ]
  },
  {
   "cell_type": "code",
   "execution_count": 3,
   "id": "4c8c1e1c",
   "metadata": {},
   "outputs": [
    {
     "name": "stdout",
     "output_type": "stream",
     "text": [
      "Enter the cost of bike to display road tax to paid : 130000\n",
      "The tax you have to pay on bike cost 130000 is 15% and total amount to paid is : 149500.0\n"
     ]
    }
   ],
   "source": [
    "'''Q.2 Write a program to accept the cost price of a bike and display the road tax to be paid\n",
    "    according to the following criteia: 15% , 10%, 5%.\n",
    "Ans- '''\n",
    "a=int(input(\"Enter the cost of bike to display road tax to paid : \"))\n",
    "if a>100000:\n",
    "    b=a*15/100\n",
    "    c=a+b\n",
    "    print(f\"The tax you have to pay on bike cost {a} is 15% and total amount to paid is : {c}\")\n",
    "elif a>50000 and a<=100000:\n",
    "    b=a*10/100\n",
    "    c=a+b\n",
    "    print(f\"The tax you have to pay on bike cost {a} is 10% and total amount to paid is : {c}\")\n",
    "elif a<=50000:\n",
    "    b=a*5/100\n",
    "    c=a+b\n",
    "    print(f\"The tax you have to pay on bike cost {a} is 5% and total amount to paid is : {c}\")"
   ]
  },
  {
   "cell_type": "code",
   "execution_count": 7,
   "id": "7baec7f3",
   "metadata": {},
   "outputs": [
    {
     "name": "stdout",
     "output_type": "stream",
     "text": [
      "Enter the name of city to see its monuments : Jaipur\n",
      "Monument in Jaipur city is Jal Mahal\n"
     ]
    }
   ],
   "source": [
    "'''Q.3 Accept any city from the user and display monuments of that city.\n",
    "Ans- '''\n",
    "a={'Delhi':'Red Fort','Agra':'Taj Mahal','Jaipur':'Jal Mahal'}\n",
    "b=input(\"Enter the name of city to see its monuments : \")\n",
    "if b in a:\n",
    "    print(f\"Monument in {b} city is {a[b]}\")\n",
    "else:\n",
    "    print(\"Not Much Info please check some else name.\")"
   ]
  },
  {
   "cell_type": "code",
   "execution_count": 8,
   "id": "d5b5dc87",
   "metadata": {},
   "outputs": [
    {
     "name": "stdout",
     "output_type": "stream",
     "text": [
      "Please provide a no. to perform the given operation : 300\n",
      "The no. of time 300 is divisible  by 3 before <=10 is 4\n"
     ]
    }
   ],
   "source": [
    "'''Q.4 Check how may times a given number can be divided by 3 before it is less than or \n",
    "    equal to 10.\n",
    "Ans- '''\n",
    "a=int(input(\"Please provide a no. to perform the given operation : \"))\n",
    "s=a\n",
    "count=0\n",
    "while(a>10):\n",
    "    a=a/3\n",
    "    count+=1\n",
    "print(f\"The no. of time {s} is divisible  by 3 before <=10 is {count}\")"
   ]
  },
  {
   "cell_type": "code",
   "execution_count": null,
   "id": "201ae9cf",
   "metadata": {},
   "outputs": [],
   "source": [
    "'''Q.5 Why and When to Use while Loop in Python give a detailed desription with example.\n",
    "Ans- In Python, while loop is used when you want to execute a block of code repeatedly until\n",
    "        a certain condition is met. The loop keeps iterating as long as the condition remains True.\n",
    "        Once the condition becomes False, the loop terminates and control passes to the next \n",
    "        statement in the program.\n",
    "        Like above code in which i don't know how many time it run so i just only define the \n",
    "        condition and on condition false it break loop and give my required output.'''"
   ]
  },
  {
   "cell_type": "code",
   "execution_count": 24,
   "id": "fbb2735c",
   "metadata": {
    "scrolled": true
   },
   "outputs": [
    {
     "name": "stdout",
     "output_type": "stream",
     "text": [
      "Enter how big pattern you want : 5\n",
      "          * \n",
      "        * * * \n",
      "      * * * * * \n",
      "    * * * * * * * \n",
      "  * * * * * * * * * \n",
      "Enter how big pattern you want : 5\n",
      "* \n",
      "* * \n",
      "* * * \n",
      "* * * * \n",
      "* * * * * \n",
      "* * * * * * \n",
      "* * * * * \n",
      "* * * * \n",
      "* * * \n",
      "* * \n",
      "* \n",
      "Enter how big pattern you want : 5\n",
      "  * * * * * * * * * * * \n",
      "    * * * * * * * * * \n",
      "      * * * * * * * \n",
      "        * * * * * \n",
      "          * * * \n",
      "            * \n",
      "            * \n",
      "          * * * \n",
      "        * * * * * \n",
      "      * * * * * * * \n",
      "    * * * * * * * * * \n",
      "  * * * * * * * * * * * \n"
     ]
    }
   ],
   "source": [
    "'''Q.6 Use nested while loop to print 3 different pattern.\n",
    "Ans- '''\n",
    "# pyramind pattern\n",
    "a=int(input(\"Enter how big pattern you want : \"))\n",
    "i = 0\n",
    "while i < a:\n",
    "    j = 0\n",
    "    while j < a - i:\n",
    "        print('  ', end=\"\")\n",
    "        j += 1\n",
    "    s = 0\n",
    "    while s < 2 * i + 1:\n",
    "        print('* ', end=\"\")\n",
    "        s += 1\n",
    "    print()\n",
    "    i += 1\n",
    "    \n",
    "#  Right start pattern\n",
    "a=int(input(\"Enter how big pattern you want : \"))\n",
    "i=0\n",
    "s=a\n",
    "while i<a:\n",
    "    j=0\n",
    "    while j<=i:\n",
    "        print(\"* \",end=\"\")\n",
    "        j+=1\n",
    "    print()\n",
    "    i+=1\n",
    "while s>=0:\n",
    "    i=s\n",
    "    while i>=0:\n",
    "        print(\"* \",end=\"\")\n",
    "        i-=1\n",
    "    print()\n",
    "    s-=1\n",
    "    \n",
    "# Hourglass pattern\n",
    "a=int(input(\"Enter how big pattern you want : \"))\n",
    "i=a\n",
    "l=0\n",
    "s=0\n",
    "while i>=0:\n",
    "    k=0\n",
    "    j=0\n",
    "    while j<=a-i:\n",
    "        print('  ',end=\"\")\n",
    "        j+=1\n",
    "    while k<2*i+1:\n",
    "        print(\"* \",end=\"\")\n",
    "        k+=1\n",
    "    print()\n",
    "    i-=1\n",
    "while l<=a:\n",
    "    m=0\n",
    "    n=0\n",
    "    while m<=a-l:\n",
    "        print(\"  \",end=\"\")\n",
    "        m+=1\n",
    "    while n<2*l+1:\n",
    "        print(\"* \",end=\"\")\n",
    "        n+=1\n",
    "    print()\n",
    "    l+=1"
   ]
  },
  {
   "cell_type": "code",
   "execution_count": 26,
   "id": "75df9fbe",
   "metadata": {},
   "outputs": [
    {
     "name": "stdout",
     "output_type": "stream",
     "text": [
      "10\n",
      "9\n",
      "8\n",
      "7\n",
      "6\n",
      "5\n",
      "4\n",
      "3\n",
      "2\n",
      "1\n"
     ]
    }
   ],
   "source": [
    "'''Q.7 Reverse a while loop to display number from 10 to 1.\n",
    "Ans- '''\n",
    "for i in range(10,0,-1):\n",
    "    print(i)"
   ]
  }
 ],
 "metadata": {
  "kernelspec": {
   "display_name": "Python 3 (ipykernel)",
   "language": "python",
   "name": "python3"
  },
  "language_info": {
   "codemirror_mode": {
    "name": "ipython",
    "version": 3
   },
   "file_extension": ".py",
   "mimetype": "text/x-python",
   "name": "python",
   "nbconvert_exporter": "python",
   "pygments_lexer": "ipython3",
   "version": "3.9.7"
  }
 },
 "nbformat": 4,
 "nbformat_minor": 5
}
