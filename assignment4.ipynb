{
 "cells": [
  {
   "cell_type": "code",
   "execution_count": 1,
   "id": "29f80d27",
   "metadata": {},
   "outputs": [
    {
     "name": "stdout",
     "output_type": "stream",
     "text": [
      "Make: Toyota\n",
      "Model: Camry\n",
      "Year: 2022\n"
     ]
    }
   ],
   "source": [
    "'''Q.1 Explain Class and Object with respect to Object-Oriented Programming. Give a \n",
    "    suitable example.\n",
    "Ans- In Object-Oriented Programming (OOP), a class is a blueprint or template for creating\n",
    "        objects that encapsulate data (properties) and behavior (methods). An object is an \n",
    "        instance of a class, which can have its own unique set of property values and can call\n",
    "        its own methods'''\n",
    "class Car:\n",
    "    def __init__(self, make, model, year):\n",
    "        self.make = make\n",
    "        self.model = model\n",
    "        self.year = year\n",
    "    def get_make(self):\n",
    "        return self.make\n",
    "    def get_model(self):\n",
    "        return self.model\n",
    "    def get_year(self):\n",
    "        return self.year\n",
    "    \n",
    "my_car = Car(\"Toyota\", \"Camry\", 2022)\n",
    "print(\"Make:\", my_car.get_make())\n",
    "print(\"Model:\", my_car.get_model())\n",
    "print(\"Year:\", my_car.get_year())"
   ]
  },
  {
   "cell_type": "code",
   "execution_count": null,
   "id": "319c50e2",
   "metadata": {},
   "outputs": [],
   "source": [
    "'''Q.2 Name the four pillars of OOPs.\n",
    "Ans- The four pillars of OOPs are mainly :-\n",
    "        1) Encapsulation -> The concept of Encapsulation is to bundling of data and behavior\n",
    "            in a single unit called a class.\n",
    "            \n",
    "        2) Abstraction -> The concept of Abstraction refers to the process of hiding the \n",
    "            implementation details of an object and exposing only the relevant information to \n",
    "            the user.\n",
    "            \n",
    "        3) Inheritance -> The concept of Inheritance refers to code reusability and allows for\n",
    "            better organization of code and to inherit the properties of parent class .\n",
    "            \n",
    "        4) Polymorphism -> The concept of polymorphism refers to the ability of objects of \n",
    "            different classes to be used interchangeably'''"
   ]
  },
  {
   "cell_type": "code",
   "execution_count": 3,
   "id": "6aa00b02",
   "metadata": {},
   "outputs": [
    {
     "name": "stdout",
     "output_type": "stream",
     "text": [
      "Hello, my name is Mohit and I am 21 years old.\n",
      "Hello, my name is Ayushi and I am 19 years old.\n"
     ]
    }
   ],
   "source": [
    "'''Q.3 Explain why the __init__() function is used. Give a suitable example.\n",
    "Ans- It also called a constructor method because it constructs or creates an instance of\n",
    "        the object.\n",
    "                          In Python, the __init__() function is a special method that is used to \n",
    "        initialize the properties of an object when it is created'''\n",
    "class Person:\n",
    "    def __init__(self, name, age):\n",
    "        self.name = name\n",
    "        self.age = age\n",
    "\n",
    "    def say_hello(self):\n",
    "        print(\"Hello, my name is\", self.name, \"and I am\", self.age, \"years old.\")\n",
    "\n",
    "person1 = Person(\"Mohit\", 21)\n",
    "person2 = Person(\"Ayushi\", 19)\n",
    "\n",
    "person1.say_hello()\n",
    "person2.say_hello()"
   ]
  },
  {
   "cell_type": "code",
   "execution_count": null,
   "id": "3a4f5f34",
   "metadata": {},
   "outputs": [],
   "source": [
    "'''Q.4 Why self is used in OOPs?\n",
    "Ans- self is used in OOP to refer to the instance of a class and allow methods to access and\n",
    "        manipulate the properties of the object.\n",
    "                                                                    It is used to access the properties and methods\n",
    "        of an object within its own class.\n",
    "                                                            We can also change its name any that we want but it \n",
    "        is manditory to use it in class to access properties and methods within the class.\n",
    "                                                                                                                                     If we\n",
    "        create a method in class and to access it with class object then we must have to give\n",
    "        it self argument in method without it we can't call it.'''"
   ]
  },
  {
   "cell_type": "code",
   "execution_count": 5,
   "id": "159017e3",
   "metadata": {},
   "outputs": [
    {
     "name": "stdout",
     "output_type": "stream",
     "text": [
      "Eating...\n",
      "Barking...\n",
      "Driving...\n",
      "Playing music...\n",
      "\n",
      "Eating...\n",
      "Barking...\n",
      "Snoring...\n",
      "\n",
      "Drawing...\n",
      "Calculating area of circle...\n",
      "Drawing...\n",
      "Calculating perimeter of rectangle...\n"
     ]
    }
   ],
   "source": [
    "'''Q.5 What is inheritance? Give an example for each type of inheritance.\n",
    "Ans- Inheritance is a fundamental concept in object-oriented programming that allows a\n",
    "        new class to be based on an existing class, inheriting its properties and behaviors. \n",
    "        The new class is called the derived class, while the existing class is called the base \n",
    "        class or superclass or parent class.\n",
    "                                                                Generally its of 4 type in python mainly -\n",
    "                                                                a) Single Inheritance\n",
    "                                                                b) Multiple Inheritance\n",
    "                                                                c) Multi-level Inheritance\n",
    "                                                                d) Hierarchical Inheritance'''\n",
    "# Single Inheritance\n",
    "class Animal:\n",
    "    def eat(self):\n",
    "        print(\"Eating...\")\n",
    "\n",
    "class Dog(Animal):\n",
    "    def bark(self):\n",
    "        print(\"Barking...\")\n",
    "\n",
    "dog = Dog()\n",
    "dog.eat()\n",
    "dog.bark()\n",
    "\n",
    "# Multiple Inheritance #\n",
    "class Vehicle:\n",
    "    def drive(self):\n",
    "        print(\"Driving...\")\n",
    "\n",
    "class Radio:\n",
    "    def play_music(self):\n",
    "        print(\"Playing music...\")\n",
    "\n",
    "class Car(Vehicle, Radio):\n",
    "    def __init__(self, brand):\n",
    "        self.brand = brand\n",
    "\n",
    "car = Car(\"Toyota\")\n",
    "car.drive()\n",
    "car.play_music()\n",
    "\n",
    "# Multilevel Inheritance #\n",
    "print()\n",
    "class Animal:\n",
    "    def eat(self):\n",
    "        print(\"Eating...\")\n",
    "\n",
    "class Dog(Animal):\n",
    "    def bark(self):\n",
    "        print(\"Barking...\")\n",
    "\n",
    "class Bulldog(Dog):\n",
    "    def snore(self):\n",
    "        print(\"Snoring...\")\n",
    "\n",
    "bulldog = Bulldog()\n",
    "bulldog.eat()\n",
    "bulldog.bark()\n",
    "bulldog.snore()\n",
    "\n",
    "# Hierarchical Inheritance #\n",
    "print()\n",
    "class Shape:\n",
    "    def draw(self):\n",
    "        print(\"Drawing...\")\n",
    "\n",
    "class Circle(Shape):\n",
    "    def area(self):\n",
    "        print(\"Calculating area of circle...\")\n",
    "\n",
    "class Rectangle(Shape):\n",
    "    def perimeter(self):\n",
    "        print(\"Calculating perimeter of rectangle...\")\n",
    "\n",
    "circle = Circle()\n",
    "circle.draw()\n",
    "circle.area()\n",
    "\n",
    "rectangle = Rectangle()\n",
    "rectangle.draw()\n",
    "rectangle.perimeter()"
   ]
  }
 ],
 "metadata": {
  "kernelspec": {
   "display_name": "Python 3 (ipykernel)",
   "language": "python",
   "name": "python3"
  },
  "language_info": {
   "codemirror_mode": {
    "name": "ipython",
    "version": 3
   },
   "file_extension": ".py",
   "mimetype": "text/x-python",
   "name": "python",
   "nbconvert_exporter": "python",
   "pygments_lexer": "ipython3",
   "version": "3.9.7"
  }
 },
 "nbformat": 4,
 "nbformat_minor": 5
}
