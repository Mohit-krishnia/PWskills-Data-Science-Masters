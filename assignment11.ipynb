{
 "cells": [
  {
   "cell_type": "code",
   "execution_count": null,
   "id": "9e4bea88",
   "metadata": {},
   "outputs": [],
   "source": [
    "'''Q.1 Which function is used to open a file? What are the different modes of opening a file? Explain each mode of file opening.\n",
    "Ans- The open() function is used to open a file in Python. It takes two parameters: the file name (including the path if it is not in the current \n",
    "        directory) and the mode in which to open the file.\n",
    "        There are several modes in which a file can be opened:\n",
    "        a) r - Read mode: This is the default mode. It opens a file for reading. If the file does not exist, it raises an error.\n",
    "\n",
    "        b) w - Write mode: This mode opens a file for writing. If the file already exists, it truncates (clears) the file content. If the file does not exist\n",
    "                                       , it creates a new file.\n",
    "        c) a - Append mode: This mode opens a file for writing, but it does not truncate the file. If the file does not exist, it creates a new file.\n",
    "\n",
    "        d) x - Exclusive creation mode: This mode creates a new file but raises an error if the file already exists.\n",
    "        etc.\n",
    "        '''"
   ]
  },
  {
   "cell_type": "code",
   "execution_count": null,
   "id": "91edc69c",
   "metadata": {},
   "outputs": [],
   "source": [
    "'''Q.2 Why close() function is used? Why is it important to close a file?\n",
    "Ans- In Python, the close() function is used to close an open file. It is important to close a file after it has been opened using the open() function \n",
    "        because:\n",
    "        a) Closing a file releases the resources used by the file.\n",
    "        b) Closing a file ensures that data written to the file is saved to disk, avoiding data loss or corruption.\n",
    "        c) Closing a file allows other programs to access the file by releasing any locks held by the operating system.'''"
   ]
  },
  {
   "cell_type": "code",
   "execution_count": 5,
   "id": "f8bdc62e",
   "metadata": {},
   "outputs": [
    {
     "name": "stdout",
     "output_type": "stream",
     "text": [
      "I want to become a Data Scientist\n"
     ]
    }
   ],
   "source": [
    "'''Q.3 Write a python program to create a text file. Write ‘I want to become a Data Scientist’ in that file. Then close the file. Open this file and \n",
    "    read the content of the file.\n",
    "Ans- '''\n",
    "file=open(\"sample.txt\",'w')\n",
    "file.write(\"I want to become a Data Scientist\")\n",
    "file.close()\n",
    "file1=open(\"sample.txt\",'r')\n",
    "print(file1.read())\n",
    "file1.close()"
   ]
  },
  {
   "cell_type": "code",
   "execution_count": 6,
   "id": "5c5ac87f",
   "metadata": {},
   "outputs": [
    {
     "name": "stdout",
     "output_type": "stream",
     "text": [
      "I want to become a Data Scientist\n",
      "I want to become a Data Scientist\n",
      "\n",
      "['I want to become a Data Scientist']\n"
     ]
    }
   ],
   "source": [
    "'''Q.4 Explain the following with python code: read(), readline() and readlines().\n",
    "Ans- In Python, the following three methods can be used to read the contents of a file:\n",
    "        a) read() - This method reads the entire contents of a file as a string.\n",
    "        b) readline() - This method reads a single line from a file.\n",
    "        c) readlines() - This method reads all the lines of a file and returns them as a list of strings.'''\n",
    "# read()\n",
    "file = open(\"sample.txt\", \"r\")\n",
    "contents = file.read()\n",
    "print(contents)\n",
    "file.close()\n",
    "\n",
    "# readline()\n",
    "file = open(\"sample.txt\", \"r\")\n",
    "line1 = file.readline()\n",
    "line2 = file.readline()\n",
    "print(line1)\n",
    "print(line2)\n",
    "file.close()\n",
    "\n",
    "# readlines()\n",
    "file = open(\"sample.txt\", \"r\")\n",
    "lines = file.readlines()\n",
    "print(lines)\n",
    "file.close()"
   ]
  },
  {
   "cell_type": "code",
   "execution_count": 7,
   "id": "2fbcf8f0",
   "metadata": {},
   "outputs": [
    {
     "name": "stdout",
     "output_type": "stream",
     "text": [
      "I want to become a Data Scientist\n"
     ]
    }
   ],
   "source": [
    "'''Q.5 Explain why with statement is used with open(). What is the advantage of using with statement and open() together?\n",
    "Ans- The advantage of using with statement with open() is that it automatically takes care of closing the file once it is no longer needed. When a file\n",
    "         is opened, it is important to close it after using it to release the system resources that were allocated for it. Failing to close a file can result in\n",
    "         errors and memory leaks.'''\n",
    "with open('sample.txt', 'r') as f:\n",
    "    contents = f.read()\n",
    "    print(contents)"
   ]
  },
  {
   "cell_type": "code",
   "execution_count": 9,
   "id": "3a768510",
   "metadata": {},
   "outputs": [
    {
     "name": "stdout",
     "output_type": "stream",
     "text": [
      "['Hello\\n', 'world\\n', 'Python\\n']\n"
     ]
    }
   ],
   "source": [
    "'''Q.6 Explain the write() and writelines() functions. Give a suitable example.\n",
    "Ans- a) The write() function is used to write a single string to a file. The string can be of any length and can contain any type of data, including text, \n",
    "             numbers, and symbols.\n",
    "        b) The writelines() function, on the other hand, is used to write a list of strings to a file. Each string in the list is written to the file as a \n",
    "             separate line, and a newline character ('\\n') is automatically added to the end of each string.'''\n",
    "# a\n",
    "with open('example.txt', 'w') as f:\n",
    "    f.write('Hello, world!')\n",
    "    \n",
    "# b\n",
    "with open('example.txt', 'w') as f:\n",
    "    lines = ['Hello\\n', 'world\\n', 'Python\\n']\n",
    "    f.writelines(lines)\n",
    "    \n",
    "# c\n",
    "with open('example.txt','r') as f:\n",
    "    print(f.readlines())"
   ]
  }
 ],
 "metadata": {
  "kernelspec": {
   "display_name": "Python 3 (ipykernel)",
   "language": "python",
   "name": "python3"
  },
  "language_info": {
   "codemirror_mode": {
    "name": "ipython",
    "version": 3
   },
   "file_extension": ".py",
   "mimetype": "text/x-python",
   "name": "python",
   "nbconvert_exporter": "python",
   "pygments_lexer": "ipython3",
   "version": "3.9.7"
  }
 },
 "nbformat": 4,
 "nbformat_minor": 5
}
