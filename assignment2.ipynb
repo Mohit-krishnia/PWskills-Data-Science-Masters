{
 "cells": [
  {
   "cell_type": "code",
   "execution_count": 1,
   "id": "0c23009a",
   "metadata": {},
   "outputs": [
    {
     "name": "stdout",
     "output_type": "stream",
     "text": [
      "[1, 3, 5, 7, 9, 11, 13, 15, 17, 19, 21, 23, 25]\n"
     ]
    }
   ],
   "source": [
    "'''Q.1 Which keyword is used to create a function? Create a function to return a list of \n",
    "    odd numbers in the range of 1 to 25.\n",
    "Ans- 'def' keyword is used to create a function in python'''\n",
    "def odd_list():\n",
    "    l=[]\n",
    "    for i in range(1,26):\n",
    "        if i%2!=0:\n",
    "            l.append(i)\n",
    "    return l\n",
    "print(odd_list())"
   ]
  },
  {
   "cell_type": "code",
   "execution_count": 2,
   "id": "0a1ab3c7",
   "metadata": {},
   "outputs": [
    {
     "name": "stdout",
     "output_type": "stream",
     "text": [
      "21\n",
      "name : John\n",
      "age : 25\n",
      "location : New York\n"
     ]
    }
   ],
   "source": [
    "'''Q.2 Why *args and **kwargs is used in some functions? Create a function each for *args\n",
    "    and **kwargs to demonstrate their use.\n",
    "Ans- *args is used when we don't know how many arguments will be passed to a function, and\n",
    "         we want to handle all of them.\n",
    "                                                        and in other hand **kwargs is used when we want to pass\n",
    "         a variable number of keyword arguments to a function. It collects all the extra keyword\n",
    "         arguments as a dictionary and allows us to pass any number of keyword arguments to a\n",
    "         function.'''\n",
    "# *args\n",
    "def add(*args):\n",
    "    sum=0\n",
    "    for i in args:\n",
    "        sum+=i\n",
    "    return sum\n",
    "print(add(1,2,3,4,5,6))\n",
    "\n",
    "# **kwargs\n",
    "def print_values(**kwargs):\n",
    "    for i,j in kwargs.items():\n",
    "        print(f\"{i} : {j}\")\n",
    "print_values(name=\"John\", age=25, location=\"New York\")"
   ]
  },
  {
   "cell_type": "code",
   "execution_count": 3,
   "id": "d43347af",
   "metadata": {},
   "outputs": [
    {
     "name": "stdout",
     "output_type": "stream",
     "text": [
      "2\n",
      "4\n",
      "6\n",
      "8\n",
      "10\n",
      "12\n",
      "14\n",
      "16\n",
      "18\n",
      "20\n"
     ]
    }
   ],
   "source": [
    "'''Q.3 What is an iterator in python? Name the method used to initialise the iterator object \n",
    "        and the method used for iteration. Use these methods to print the first five elements \n",
    "        of the given list [2, 4, 6, 8, 10, 12, 14,16, 18, 20].\n",
    "Ans- It is a type of object which is used in loop to iterate each element one by one,meaning\n",
    "        you can traverse through all the values contained in the object one by one. We use this\n",
    "        to decrease load on our memory on very big programs. Using iterators is that they allow\n",
    "        us to access large amounts of data without loading it all into memory at once by which \n",
    "        iterators are more memory-efficient.\n",
    "                                                                    we use iter() to initialise the iterator object.'''\n",
    "a=[2, 4, 6, 8, 10, 12, 14,16, 18, 20]\n",
    "iterator=iter(a)\n",
    "for i in a:\n",
    "    print(next(iterator))"
   ]
  },
  {
   "cell_type": "code",
   "execution_count": 4,
   "id": "92dbe9d7",
   "metadata": {},
   "outputs": [
    {
     "name": "stdout",
     "output_type": "stream",
     "text": [
      "Enter how much long you want fibonacci : 10\n",
      "0\n",
      "1\n",
      "1\n",
      "2\n",
      "3\n",
      "5\n",
      "8\n",
      "13\n",
      "21\n",
      "34\n"
     ]
    }
   ],
   "source": [
    "'''Q.4 What is a generator function in python? Why yield keyword is used? Give an example \n",
    "        of a generator function.\n",
    "Ans- A generator is a function that returns an iterator that produces a sequence of values \n",
    "         when iterated over. Generators are useful when we want to produce a large sequence \n",
    "         of values, but we don't want to store all of them in memory at once.\n",
    "                                                                                                                    yield keyword is\n",
    "         used to temporarily suspend the function and return a value to the caller. When the\n",
    "         function is called again, it resumes from where it left off and continues executing \n",
    "         until it reaches another yield statement.'''\n",
    "def fibonacci(n):\n",
    "    a,b=0,1\n",
    "    for i in range(n):\n",
    "        yield(a)\n",
    "        a,b=b,a+b\n",
    "for i in fibonacci(int(input(\"Enter how much long you want fibonacci : \"))):\n",
    "    print(i)"
   ]
  },
  {
   "cell_type": "code",
   "execution_count": 5,
   "id": "bc826bfa",
   "metadata": {},
   "outputs": [
    {
     "name": "stdout",
     "output_type": "stream",
     "text": [
      "2\n",
      "3\n",
      "5\n",
      "7\n",
      "11\n",
      "13\n",
      "17\n",
      "19\n",
      "23\n",
      "29\n",
      "31\n",
      "37\n",
      "41\n",
      "43\n",
      "47\n",
      "53\n",
      "59\n",
      "61\n",
      "67\n",
      "71\n"
     ]
    }
   ],
   "source": [
    "'''Q.5 Create a generator function for prime numbers less than 1000.Use the next() method\n",
    "          to print the first 20 prime numbers.\n",
    "Ans- '''\n",
    "def prime_no():\n",
    "    i=2\n",
    "    for i in range(2,1000):\n",
    "        for j in range(2,i):\n",
    "            if i%j==0:\n",
    "                break\n",
    "        else:\n",
    "                yield(i)\n",
    "generator=prime_no()\n",
    "for i in range(20):\n",
    "    print(next(generator))"
   ]
  },
  {
   "cell_type": "code",
   "execution_count": 6,
   "id": "83d9a5fb",
   "metadata": {},
   "outputs": [
    {
     "name": "stdout",
     "output_type": "stream",
     "text": [
      "1 1 2 3 5 8 13 21 34 55 "
     ]
    }
   ],
   "source": [
    "'''Q.6 Write a python program to print the first 10 Fibonacci numbers using a while loop.\n",
    "Ans- '''\n",
    "def fibonaci(n):\n",
    "    a,b=0,1\n",
    "    for i in range(n):\n",
    "        a,b=b,a+b\n",
    "        print(a,end=\" \")\n",
    "a=fibonaci(10)"
   ]
  },
  {
   "cell_type": "code",
   "execution_count": 7,
   "id": "29f98517",
   "metadata": {},
   "outputs": [
    {
     "name": "stdout",
     "output_type": "stream",
     "text": [
      "['p', 'w', 's', 'k', 'i', 'l', 'l', 's']\n"
     ]
    }
   ],
   "source": [
    "'''Q.7 Write a List Comprehension to iterate through the given string: ‘pwskills’.Expected\n",
    "    output: ['p', 'w', 's', 'k', 'i', 'l', 'l', 's']\n",
    "Ans- '''\n",
    "string='pwskills'\n",
    "l=[i for i in string if i in string]\n",
    "print(l)"
   ]
  },
  {
   "cell_type": "code",
   "execution_count": 8,
   "id": "a2941082",
   "metadata": {},
   "outputs": [
    {
     "name": "stdout",
     "output_type": "stream",
     "text": [
      "Enter the no. to check wheter palindromic or not : 212\n",
      "palindromic\n"
     ]
    }
   ],
   "source": [
    "'''Q.8 Write a python program to check whether a given number is Palindrome or not using\n",
    "    a while loop.\n",
    "Ans'''\n",
    "a=int(input(\"Enter the no. to check wheter palindromic or not : \"))\n",
    "s=a\n",
    "r=\"\"\n",
    "while a>0:\n",
    "    m=a%10\n",
    "    r=r+str(m)\n",
    "    a=a//10\n",
    "if s==int(r):\n",
    "    print(\"palindromic\")\n",
    "else:\n",
    "    print(\"not palindromic\")"
   ]
  },
  {
   "cell_type": "code",
   "execution_count": 12,
   "id": "23f4bb25",
   "metadata": {},
   "outputs": [
    {
     "name": "stdout",
     "output_type": "stream",
     "text": [
      "[1, 3, 5, 7, 9, 11, 13, 15, 17, 19, 21, 23, 25, 27, 29, 31, 33, 35, 37, 39, 41, 43, 45, 47, 49, 51, 53, 55, 57, 59, 61, 63, 65, 67, 69, 71, 73, 75, 77, 79, 81, 83, 85, 87, 89, 91, 93, 95, 97, 99]\n"
     ]
    }
   ],
   "source": [
    "'''Q.9 Write a code to print odd numbers from 1 to 100 using list comprehension.\n",
    "Ans- '''\n",
    "a=[i for i in range(1,101)]\n",
    "b=[i for i in a if i%2!=0]\n",
    "print(b)"
   ]
  }
 ],
 "metadata": {
  "kernelspec": {
   "display_name": "Python 3 (ipykernel)",
   "language": "python",
   "name": "python3"
  },
  "language_info": {
   "codemirror_mode": {
    "name": "ipython",
    "version": 3
   },
   "file_extension": ".py",
   "mimetype": "text/x-python",
   "name": "python",
   "nbconvert_exporter": "python",
   "pygments_lexer": "ipython3",
   "version": "3.9.7"
  }
 },
 "nbformat": 4,
 "nbformat_minor": 5
}
