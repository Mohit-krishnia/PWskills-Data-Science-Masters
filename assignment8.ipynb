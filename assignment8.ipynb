{
 "cells": [
  {
   "cell_type": "code",
   "execution_count": 4,
   "id": "217a7d2e",
   "metadata": {},
   "outputs": [
    {
     "name": "stdout",
     "output_type": "stream",
     "text": [
      "Enter the password which is required : #MoHiT@26*\n",
      "Password is correct\n"
     ]
    }
   ],
   "source": [
    "'''Q.1 You are writing code for a company. The requirement of the company is that you create a python function that will check whether the password\n",
    "    entered by the user is correct or not. The function should take the password as input and return the string “Valid Password” if the entered passw-\n",
    "    -ord follows the\n",
    "    below-given password guidelines else it should return “Invalid Password”.\n",
    "    Note: 1. The Password should contain at least two uppercase letters and at least two lowercase letters.\n",
    "    2. The Password should contain at least a number and three special characters.\n",
    "    3. The length of the password should be 10 characters long.\n",
    "Ans- '''\n",
    "a = input(\"Enter the password which is required : \")\n",
    "if len(a) < 10:\n",
    "    print(\"Password must be at least 10 characters long\")\n",
    "else:\n",
    "    countU = 0\n",
    "    countL = 0\n",
    "    countS = 0\n",
    "    countN = 0\n",
    "    for i in a:\n",
    "        if i.isdigit():\n",
    "            countN += 1\n",
    "        elif i in ['!', '@', '#', '$', '%', '^', '&', '*', '(', ')', '-', '+', '=', '_', '`', '~', '{', '}', '[', ']', ':', ';', '<', '>', ',', '.', '?', '/']:\n",
    "            countS += 1\n",
    "        elif i.isupper():\n",
    "            countU += 1\n",
    "        else:\n",
    "            countL += 1\n",
    "    if len(a) >= 10 and countN >= 1 and countS >= 3 and countU >= 2 and countL >= 2:\n",
    "        print(\"Password is correct\")\n",
    "    else:\n",
    "        print(\"Password is incorrect\")"
   ]
  },
  {
   "cell_type": "code",
   "execution_count": 17,
   "id": "351c95d8",
   "metadata": {},
   "outputs": [
    {
     "name": "stdout",
     "output_type": "stream",
     "text": [
      "True\n",
      "False\n",
      "\n",
      "True\n",
      "False\n",
      "\n",
      "[('orange', 80), ('mango', 99), ('grapes', 1000)]\n",
      "\n",
      "[1, 4, 9, 16, 25, 36, 49, 64, 81, 100]\n",
      "\n",
      "[0.3333333333333333, 0.6666666666666666, 1.0, 1.3333333333333333, 1.6666666666666667, 2.0, 2.3333333333333335, 2.6666666666666665, 3.0, 3.3333333333333335]\n",
      "\n",
      "True\n",
      "False\n",
      "\n",
      "Odd numbers are: [1, 3, 5, 7, 9]\n",
      "\n",
      "Positive numbers: [1, 2, 3, 4, 5, 6]\n",
      "Negative numbers: [-1, -2, -3, -4, -5]\n"
     ]
    }
   ],
   "source": [
    "'''Q.2 Solve the below-given questions using at least one of the following:\n",
    "    1. Lambda functioJ\n",
    "    2. Filter functioJ\n",
    "    3. Zap functioJ\n",
    "    4. List ComprehensioI\n",
    "    a) Check if the string starts with a particular letterY\n",
    "    b) Check if the string is numericY\n",
    "    c) Sort a list of tuples having fruit names and their quantity. [(\"mango\",99),(\"orange\",80), (\"grapes\", 1000)-\n",
    "    d)  Find the squares of numbers from 1 to 10Y\n",
    "    e)  Find the cube root of numbers from 1 to 10Y\n",
    "    f)  Check if a given number is evenY\n",
    "    g)  Filter odd numbers from the given list.[1,2,3,4,5,6,7,8,9,10-\n",
    "    h) Sort a list of integers into positive and negative integers lists. [1,2,3,4,5,6,-1,-2,-3,-4,-5,0]\n",
    "Ans- '''\n",
    "# a\n",
    "starts_with_letter = lambda string, letter: string.startswith(letter)\n",
    "print(starts_with_letter(\"apple\", \"a\")) \n",
    "print(starts_with_letter(\"banana\", \"c\")) \n",
    "print()\n",
    "\n",
    "# b\n",
    "is_numeric = lambda string: string.isnumeric()\n",
    "print(is_numeric(\"1234\")) \n",
    "print(is_numeric(\"abcd\"))\n",
    "print()\n",
    "\n",
    "# c\n",
    "fruits = [(\"mango\",99),(\"orange\",80), (\"grapes\", 1000)]\n",
    "sorted_fruits_by_quantity = sorted(fruits, key=lambda x: x[1])\n",
    "print(sorted_fruits_by_quantity)\n",
    "print()\n",
    "\n",
    "# d \n",
    "squares = [x**2 for x in range(1,11)]\n",
    "print(squares)\n",
    "print()\n",
    "\n",
    "# e \n",
    "cube_roots = [x**1/3 for x in range(1,11)]\n",
    "print(cube_roots)\n",
    "print()\n",
    "\n",
    "# f\n",
    "is_even = lambda x: x % 2 == 0\n",
    "print(is_even(4))  \n",
    "print(is_even(3)) \n",
    "print()\n",
    "\n",
    "# g\n",
    "numbers = [1,2,3,4,5,6,7,8,9,10]\n",
    "odd_numbers= [num for num in numbers if num % 2 != 0]\n",
    "print(\"Odd numbers are:\", odd_numbers)\n",
    "print()\n",
    "\n",
    "# h\n",
    "numbers = [1, 2, 3, 4, 5, 6, -1, -2, -3, -4, -5, 0]\n",
    "positive_numbers = [num for num in numbers if num > 0]\n",
    "negative_numbers = [num for num in numbers if num < 0]\n",
    "print(\"Positive numbers:\", positive_numbers)\n",
    "print(\"Negative numbers:\", negative_numbers)\n"
   ]
  }
 ],
 "metadata": {
  "kernelspec": {
   "display_name": "Python 3 (ipykernel)",
   "language": "python",
   "name": "python3"
  },
  "language_info": {
   "codemirror_mode": {
    "name": "ipython",
    "version": 3
   },
   "file_extension": ".py",
   "mimetype": "text/x-python",
   "name": "python",
   "nbconvert_exporter": "python",
   "pygments_lexer": "ipython3",
   "version": "3.9.7"
  }
 },
 "nbformat": 4,
 "nbformat_minor": 5
}
