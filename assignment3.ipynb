{
 "cells": [
  {
   "cell_type": "code",
   "execution_count": 3,
   "id": "55c09961",
   "metadata": {},
   "outputs": [
    {
     "name": "stdout",
     "output_type": "stream",
     "text": [
      "[('Virat Kohli', 24936), ('Jack Kallis', 25534), ('Ricky Ponting', 27483), ('Sachin Tendulkar', 34357)]\n"
     ]
    }
   ],
   "source": [
    "'''Q.1 Create a python program to sort the given list of tuples based on integer value using a\n",
    "    lambda function.\n",
    "Ans- '''\n",
    "a=[('Sachin Tendulkar', 34357), ('Ricky Ponting', 27483), ('Jack Kallis', 25534), ('Virat Kohli', 24936)]\n",
    "b=sorted(a,key=lambda x: x[1])\n",
    "print(b)\n",
    "\n"
   ]
  },
  {
   "cell_type": "code",
   "execution_count": 5,
   "id": "3d735738",
   "metadata": {},
   "outputs": [
    {
     "name": "stdout",
     "output_type": "stream",
     "text": [
      "[1, 4, 9, 16, 25, 36, 49, 64, 81, 100]\n"
     ]
    }
   ],
   "source": [
    "'''Q.2 Write a Python Program to find the squares of all the numbers in the given list of\n",
    "    integers using lambda and map functions.\n",
    "    [1, 2, 3, 4, 5, 6, 7, 8, 9, 10]\n",
    "Ans- '''\n",
    "a=[1, 2, 3, 4, 5, 6, 7, 8, 9, 10]\n",
    "b=list(map(lambda x:x*x,a))\n",
    "print(b)"
   ]
  },
  {
   "cell_type": "code",
   "execution_count": 7,
   "id": "985aa18b",
   "metadata": {},
   "outputs": [
    {
     "name": "stdout",
     "output_type": "stream",
     "text": [
      "('1', '2', '3', '4', '5', '6', '7', '8', '9', '10')\n"
     ]
    }
   ],
   "source": [
    "'''Q.3 Write a python program to convert the given list of integers into a tuple of strings. \n",
    "    Use map and lambda functions\n",
    "    Given String: [1, 2, 3, 4, 5, 6, 7, 8, 9, 10]\n",
    "    Expected output: ('1', '2', '3', '4', '5', '6', '7', '8', '9', '10')\n",
    "Ans- '''\n",
    "a=[1, 2, 3, 4, 5, 6, 7, 8, 9, 10]\n",
    "b=tuple(map(lambda x: str(x),a))\n",
    "print(b)"
   ]
  },
  {
   "cell_type": "code",
   "execution_count": 13,
   "id": "c8c7f2f8",
   "metadata": {},
   "outputs": [
    {
     "name": "stdout",
     "output_type": "stream",
     "text": [
      "15511210043330985984000000\n"
     ]
    }
   ],
   "source": [
    "'''Q.4 Write a python program using reduce function to compute the product of a list \n",
    "    containing numbers from 1 to 25.\n",
    "Ans- '''\n",
    "from functools import reduce\n",
    "\n",
    "a=range(1,26)\n",
    "product=1\n",
    "b=reduce(lambda x,product: x*product, a)\n",
    "print(b)"
   ]
  },
  {
   "cell_type": "code",
   "execution_count": 12,
   "id": "7eb69f06",
   "metadata": {},
   "outputs": [
    {
     "name": "stdout",
     "output_type": "stream",
     "text": [
      "[6, 60, 90, 120]\n"
     ]
    }
   ],
   "source": [
    "'''Q.5 Write a python program to filter the numbers in a given list that are divisible by 2\n",
    "    and 3 using thefilter function.\n",
    "    [2, 3, 6, 9, 27, 60, 90, 120, 55, 46]\n",
    "Ans- '''\n",
    "a=[2, 3, 6, 9, 27, 60, 90, 120, 55, 46]\n",
    "b=list(filter(lambda x: x%2==0 and x%3==0, a))\n",
    "print(b)"
   ]
  },
  {
   "cell_type": "code",
   "execution_count": 31,
   "id": "b8e8f061",
   "metadata": {},
   "outputs": [
    {
     "name": "stdout",
     "output_type": "stream",
     "text": [
      "Enter the no. to check wheter its palindrome or not : 2332\n",
      "palindrome\n"
     ]
    }
   ],
   "source": [
    "'''Q.6 Write a python program to find palindromes in the given list of strings using lambda \n",
    "    and filter function.\n",
    "    ['python', 'php', 'aba', 'radar', 'level']\n",
    "Ans- '''\n",
    "a=input(\"Enter the no. to check wheter its palindrome or not : \")\n",
    "b=list(filter(lambda x: x==x[::-1],[a]))\n",
    "if b:\n",
    "    print('palindrome')\n",
    "else:\n",
    "    print(\"not palindrome\")"
   ]
  }
 ],
 "metadata": {
  "kernelspec": {
   "display_name": "Python 3 (ipykernel)",
   "language": "python",
   "name": "python3"
  },
  "language_info": {
   "codemirror_mode": {
    "name": "ipython",
    "version": 3
   },
   "file_extension": ".py",
   "mimetype": "text/x-python",
   "name": "python",
   "nbconvert_exporter": "python",
   "pygments_lexer": "ipython3",
   "version": "3.9.7"
  }
 },
 "nbformat": 4,
 "nbformat_minor": 5
}
