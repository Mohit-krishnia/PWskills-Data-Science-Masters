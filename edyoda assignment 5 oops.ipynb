{
 "cells": [
  {
   "cell_type": "code",
   "execution_count": 5,
   "id": "be2c3374",
   "metadata": {},
   "outputs": [
    {
     "name": "stdout",
     "output_type": "stream",
     "text": [
      "35\n"
     ]
    }
   ],
   "source": [
    "class sq_sum:\n",
    "    def __init__(self,x,y,z):\n",
    "        self.x=x\n",
    "        self.y=y\n",
    "        self.z=z\n",
    "    def sqSum(self):\n",
    "        square=lambda x,y,z:( x**2,y**2,z**2)\n",
    "        squares=square(self.x,self.y,self.z)\n",
    "        su=sum(squares)\n",
    "        return su\n",
    "obj=sq_sum(1,3,5)\n",
    "print(obj.sqSum())"
   ]
  },
  {
   "cell_type": "code",
   "execution_count": 9,
   "id": "aa036df6",
   "metadata": {},
   "outputs": [
    {
     "name": "stdout",
     "output_type": "stream",
     "text": [
      "104\n",
      "84\n",
      "940\n",
      "9.4\n"
     ]
    }
   ],
   "source": [
    "class calculator:\n",
    "    def __init__(self,x,y):\n",
    "        self.x=x\n",
    "        self.y=y\n",
    "    def add(self):\n",
    "        print(self.x+self.y)\n",
    "        \n",
    "    def subtract(self):\n",
    "        print(abs(self.x-self.y))\n",
    "        \n",
    "    def multiply(self):\n",
    "        print(self.x*self.y)\n",
    "        \n",
    "    def divide(self):\n",
    "        print(self.y/self.x)\n",
    "    \n",
    "obj=calculator(10,94)\n",
    "obj.add()\n",
    "obj.subtract()\n",
    "obj.multiply()\n",
    "obj.divide()"
   ]
  },
  {
   "cell_type": "code",
   "execution_count": 13,
   "id": "18ecdfd3",
   "metadata": {},
   "outputs": [
    {
     "name": "stdout",
     "output_type": "stream",
     "text": [
      "John\n",
      "12345\n"
     ]
    }
   ],
   "source": [
    "class student:\n",
    "    def __init__(self):\n",
    "        self.__name=\"\"\n",
    "        self.__rollNumber=\"\"\n",
    "    \n",
    "    def setName(self,name):\n",
    "        self.__name=name\n",
    "    \n",
    "    def getName(self):\n",
    "        return self.__name\n",
    "    \n",
    "    def setRollNumber(self,rollNumber):\n",
    "        self.__rollNumber=rollNumber\n",
    "        \n",
    "    def getRollNumber(self):\n",
    "        return self.__rollNumber\n",
    "\n",
    "s = student()\n",
    "s.setName(\"John\")\n",
    "s.setRollNumber(\"12345\")\n",
    "print(s.getName())   \n",
    "print(s.getRollNumber()) "
   ]
  },
  {
   "cell_type": "code",
   "execution_count": 16,
   "id": "ce0a6078",
   "metadata": {},
   "outputs": [
    {
     "name": "stdout",
     "output_type": "stream",
     "text": [
      "The Account Holder Ashish have balance of 5000 with interestRate of 5\n"
     ]
    }
   ],
   "source": [
    "class account:\n",
    "    def __init__(self,title=None,account_balance=0):\n",
    "        self.title=title\n",
    "        self.account_balance=account_balance\n",
    "        \n",
    "        \n",
    "class saving_account(account):\n",
    "    def __init__(self,title=None,account_balance=0,interestRate=0):\n",
    "        super().__init__(title,account_balance)\n",
    "        self.interestRate=interestRate\n",
    "    \n",
    "    def show(self):\n",
    "        print(f\"The Account Holder {self.title} have balance of {self.account_balance} with interestRate of {self.interestRate}\")\n",
    "        \n",
    "obj=saving_account(\"Ashish\",5000,5)\n",
    "obj.show()"
   ]
  },
  {
   "cell_type": "code",
   "execution_count": 23,
   "id": "c34e445b",
   "metadata": {},
   "outputs": [
    {
     "name": "stdout",
     "output_type": "stream",
     "text": [
      "100\n"
     ]
    }
   ],
   "source": [
    "class Account:\n",
    "    def __init__(self, title=None, balance=0):\n",
    "        self.title = title\n",
    "        self.balance = balance\n",
    "    \n",
    "    def withdrawal(self, amount):\n",
    "        if amount<=self.balance:\n",
    "            self.balance-=amount\n",
    "\n",
    "    def deposit(self, amount):\n",
    "        self.balance+=amount\n",
    "        \n",
    "    def getBalance(self):\n",
    "        print(f\"{self.balance}\")\n",
    "\n",
    "class SavingsAccount(Account):\n",
    "    def __init__(self, title=None, balance=0, interestRate=0):\n",
    "            super().__init__(title, balance)\n",
    "            self.interestRate = interestRate\n",
    "    \n",
    "    def interestAmount(self):\n",
    "        a=(self.interestRate*self.balance)//100\n",
    "        print(a)\n",
    "\n",
    "demo1 = SavingsAccount(\"Ashish\", 2000, 5)   \n",
    "demo1.interestAmount()"
   ]
  },
  {
   "cell_type": "code",
   "execution_count": null,
   "id": "70df9c18",
   "metadata": {},
   "outputs": [],
   "source": []
  }
 ],
 "metadata": {
  "kernelspec": {
   "display_name": "Python 3 (ipykernel)",
   "language": "python",
   "name": "python3"
  },
  "language_info": {
   "codemirror_mode": {
    "name": "ipython",
    "version": 3
   },
   "file_extension": ".py",
   "mimetype": "text/x-python",
   "name": "python",
   "nbconvert_exporter": "python",
   "pygments_lexer": "ipython3",
   "version": "3.9.7"
  }
 },
 "nbformat": 4,
 "nbformat_minor": 5
}
