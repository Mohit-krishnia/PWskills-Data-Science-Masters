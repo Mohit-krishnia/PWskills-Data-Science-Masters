{
 "cells": [
  {
   "cell_type": "code",
   "execution_count": 1,
   "id": "a22f6d19",
   "metadata": {},
   "outputs": [
    {
     "name": "stdout",
     "output_type": "stream",
     "text": [
      "1\n",
      "2\n",
      "3\n",
      "4\n",
      "5\n",
      "Hello\n"
     ]
    }
   ],
   "source": [
    "'''Q.1 Explain with an exapmle each when to use a for loop and a while loop ?\n",
    "Ans- we use while loop when we want to perform some task until some condition .When\n",
    "         we need to end the loop on a condition other than the number of times, we use a\n",
    "         while loop . Because while must be True or False.\n",
    "                                                                      But in case of for loop we use it to iterate\n",
    "        a sequence of element or when we know the no. of iteration that is why we have to\n",
    "        specify the ending point in the for loop initialization.\n",
    "        examples:'''\n",
    "# for loop:-\n",
    "a=[1,2,3,4,5]\n",
    "l=[]\n",
    "for i in a:\n",
    "    print(i)\n",
    "    l.append(i)\n",
    "#  while loop:\n",
    "while True:\n",
    "    print(\"Hello\")\n",
    "    break"
   ]
  },
  {
   "cell_type": "code",
   "execution_count": 2,
   "id": "2ffa6725",
   "metadata": {},
   "outputs": [
    {
     "name": "stdout",
     "output_type": "stream",
     "text": [
      "55\n",
      "55\n"
     ]
    }
   ],
   "source": [
    "'''Q.2 Write a python program to print the sum and product of the first 10 natural numbers\n",
    "        using for and while loop.\n",
    "Ans- '''\n",
    "# for loop\n",
    "s=0\n",
    "for i in range(1,11):\n",
    "    s+=i\n",
    "print(s)\n",
    "# while loop \n",
    "a=10\n",
    "s=0\n",
    "while a>=1:\n",
    "    s+=a\n",
    "    a-=1\n",
    "print(s)"
   ]
  },
  {
   "cell_type": "code",
   "execution_count": 3,
   "id": "853b7417",
   "metadata": {},
   "outputs": [
    {
     "name": "stdout",
     "output_type": "stream",
     "text": [
      "Enter user consumed electricity units : 310\n",
      "Amount for 10 unit is  : 2250.0\n"
     ]
    }
   ],
   "source": [
    "'''Q.3 Create a python program to compute the electricity bill for a household.\n",
    "       The per-unit charges in rupees are as follows: For the first 100 units, the user will \n",
    "        be charged Rs. 4.5 per unit, for the next 100 units, the user will be charged Rs. 6 \n",
    "        per unit, and for the next 100 units, the user will be charged Rs. 10 per unit, After\n",
    "        300 units and above the user will be charged Rs. 20 per unit.\n",
    "Ans- '''\n",
    "charge1=4.5\n",
    "charge2=6\n",
    "charge3=10\n",
    "charge4=20\n",
    "b=100\n",
    "a=int(input(\"Enter user consumed electricity units : \"))\n",
    "if a<=100 and a>=1:\n",
    "    print(f\"Amount for {a} unit is  : {a*charge1}\")\n",
    "elif a<=200 and a>100:\n",
    "    a=a-100\n",
    "    print(f\"Amount for {a} unit is  : {a*charge2+b*charge1}\")\n",
    "elif a<=300 and a>200:\n",
    "    a=a-200\n",
    "    print(f\"Amount for {a} unit is  : {a*charge3+b*charge2+b*charge1}\")\n",
    "else:\n",
    "    a=a-300\n",
    "    print(f\"Amount for {a} unit is  : {a*charge4+b*charge1+b*charge2+b*charge3}\")"
   ]
  },
  {
   "cell_type": "code",
   "execution_count": 4,
   "id": "ea95a03c",
   "metadata": {},
   "outputs": [
    {
     "name": "stdout",
     "output_type": "stream",
     "text": [
      "[2, 4, 5, 6, 8, 10, 12, 14, 15, 16, 18, 20, 22, 24, 25, 26, 28, 30, 32, 34, 35, 36, 38, 40, 42, 44, 45, 46, 48, 50, 52, 54, 55, 56, 58, 60, 62, 64, 65, 66, 68, 70, 72, 74, 75, 76, 78, 80, 82, 84, 85, 86, 88, 90, 92, 94, 95, 96, 98, 100]\n",
      "[2, 4, 5, 6, 8, 10, 12, 14, 15, 16, 18, 20, 22, 24, 25, 26, 28, 30, 32, 34, 35, 36, 38, 40, 42, 44, 45, 46, 48, 50, 52, 54, 55, 56, 58, 60, 62, 64, 65, 66, 68, 70, 72, 74, 75, 76, 78, 80, 82, 84, 85, 86, 88, 90, 92, 94, 95, 96, 98, 100]\n"
     ]
    }
   ],
   "source": [
    "'''Q.4 Create a list of numbers from 1 to 100. Use for loop and while loop to calculate the \n",
    "       cube of each number and if the cube of that number is divisible by 4 or 5 then append\n",
    "       that number in a list and print that list.\n",
    "Ans- '''\n",
    "# for loop\n",
    "l1 = []\n",
    "for i in range(1, 101):\n",
    "    cube = i ** 3\n",
    "    if cube % 4 == 0 or cube % 5 == 0:\n",
    "        l1.append(i)\n",
    "print(l1)\n",
    "\n",
    "# while loop\n",
    "s = []\n",
    "a = 1\n",
    "while a <= 100:\n",
    "    cube = a ** 3\n",
    "    if cube % 4 == 0 or cube % 5 == 0:\n",
    "        s.append(a)\n",
    "    a += 1\n",
    "print(s)"
   ]
  },
  {
   "cell_type": "code",
   "execution_count": 7,
   "id": "8b0b15b5",
   "metadata": {},
   "outputs": [
    {
     "name": "stdout",
     "output_type": "stream",
     "text": [
      "No. of vowels in string is : 12\n"
     ]
    }
   ],
   "source": [
    "'''Q.5 Write a program to filter count vowels in the below-given string.\n",
    "        string = \"I want to become a data scientist\"\n",
    "Ans-'''\n",
    "string = \"I want to become a data scientist\"\n",
    "vowels =\"aeiouAEIOU\"\n",
    "count=len(list(filter(lambda x: x in vowels, string)))\n",
    "print(f\"No. of vowels in string is : {count}\")"
   ]
  },
  {
   "cell_type": "code",
   "execution_count": null,
   "id": "0c2a05c3",
   "metadata": {},
   "outputs": [],
   "source": []
  }
 ],
 "metadata": {
  "kernelspec": {
   "display_name": "Python 3 (ipykernel)",
   "language": "python",
   "name": "python3"
  },
  "language_info": {
   "codemirror_mode": {
    "name": "ipython",
    "version": 3
   },
   "file_extension": ".py",
   "mimetype": "text/x-python",
   "name": "python",
   "nbconvert_exporter": "python",
   "pygments_lexer": "ipython3",
   "version": "3.9.7"
  }
 },
 "nbformat": 4,
 "nbformat_minor": 5
}
